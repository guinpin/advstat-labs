{
 "cells": [
  {
   "cell_type": "markdown",
   "metadata": {},
   "source": [
    "Koshkareva Julia MS-DS2"
   ]
  },
  {
   "cell_type": "markdown",
   "metadata": {},
   "source": [
    "Lab 8"
   ]
  },
  {
   "cell_type": "code",
   "execution_count": null,
   "metadata": {
    "collapsed": true
   },
   "outputs": [],
   "source": [
    "Link Github: "
   ]
  },
  {
   "cell_type": "markdown",
   "metadata": {},
   "source": [
    "# Assignment 1"
   ]
  },
  {
   "cell_type": "code",
   "execution_count": 267,
   "metadata": {},
   "outputs": [
    {
     "data": {
      "text/html": [
       "<div>\n",
       "<style>\n",
       "    .dataframe thead tr:only-child th {\n",
       "        text-align: right;\n",
       "    }\n",
       "\n",
       "    .dataframe thead th {\n",
       "        text-align: left;\n",
       "    }\n",
       "\n",
       "    .dataframe tbody tr th {\n",
       "        vertical-align: top;\n",
       "    }\n",
       "</style>\n",
       "<table border=\"1\" class=\"dataframe\">\n",
       "  <thead>\n",
       "    <tr style=\"text-align: right;\">\n",
       "      <th></th>\n",
       "      <th>id</th>\n",
       "      <th>p1</th>\n",
       "      <th>p2</th>\n",
       "      <th>p3</th>\n",
       "      <th>p4</th>\n",
       "      <th>p5</th>\n",
       "      <th>p6</th>\n",
       "      <th>p7</th>\n",
       "      <th>p8</th>\n",
       "      <th>p9</th>\n",
       "      <th>...</th>\n",
       "      <th>p24</th>\n",
       "      <th>p25</th>\n",
       "      <th>p26</th>\n",
       "      <th>p27</th>\n",
       "      <th>p28</th>\n",
       "      <th>y1</th>\n",
       "      <th>y2</th>\n",
       "      <th>y3</th>\n",
       "      <th>y4</th>\n",
       "      <th>y5</th>\n",
       "    </tr>\n",
       "  </thead>\n",
       "  <tbody>\n",
       "    <tr>\n",
       "      <th>0</th>\n",
       "      <td>11</td>\n",
       "      <td>6.48148</td>\n",
       "      <td>3.0</td>\n",
       "      <td>5.0</td>\n",
       "      <td>7.75000</td>\n",
       "      <td>0.0</td>\n",
       "      <td>7.16667</td>\n",
       "      <td>8.16667</td>\n",
       "      <td>9.66667</td>\n",
       "      <td>6.16667</td>\n",
       "      <td>...</td>\n",
       "      <td>1.66667</td>\n",
       "      <td>3.16667</td>\n",
       "      <td>0.0</td>\n",
       "      <td>0.00000</td>\n",
       "      <td>0.0</td>\n",
       "      <td>1.0</td>\n",
       "      <td>5.00</td>\n",
       "      <td>7.44</td>\n",
       "      <td>1.18</td>\n",
       "      <td>4.38</td>\n",
       "    </tr>\n",
       "    <tr>\n",
       "      <th>1</th>\n",
       "      <td>12</td>\n",
       "      <td>5.74074</td>\n",
       "      <td>4.0</td>\n",
       "      <td>8.0</td>\n",
       "      <td>7.33333</td>\n",
       "      <td>8.0</td>\n",
       "      <td>8.83333</td>\n",
       "      <td>9.75000</td>\n",
       "      <td>9.66667</td>\n",
       "      <td>9.00000</td>\n",
       "      <td>...</td>\n",
       "      <td>2.50000</td>\n",
       "      <td>5.50000</td>\n",
       "      <td>5.0</td>\n",
       "      <td>8.66667</td>\n",
       "      <td>8.0</td>\n",
       "      <td>4.5</td>\n",
       "      <td>4.25</td>\n",
       "      <td>8.93</td>\n",
       "      <td>2.00</td>\n",
       "      <td>6.03</td>\n",
       "    </tr>\n",
       "    <tr>\n",
       "      <th>2</th>\n",
       "      <td>25</td>\n",
       "      <td>7.59259</td>\n",
       "      <td>7.0</td>\n",
       "      <td>8.0</td>\n",
       "      <td>7.66667</td>\n",
       "      <td>8.0</td>\n",
       "      <td>9.66667</td>\n",
       "      <td>9.50000</td>\n",
       "      <td>6.16667</td>\n",
       "      <td>9.66667</td>\n",
       "      <td>...</td>\n",
       "      <td>3.50000</td>\n",
       "      <td>3.50000</td>\n",
       "      <td>9.0</td>\n",
       "      <td>6.50000</td>\n",
       "      <td>7.0</td>\n",
       "      <td>7.5</td>\n",
       "      <td>11.00</td>\n",
       "      <td>8.97</td>\n",
       "      <td>2.00</td>\n",
       "      <td>9.12</td>\n",
       "    </tr>\n",
       "  </tbody>\n",
       "</table>\n",
       "<p>3 rows × 34 columns</p>\n",
       "</div>"
      ],
      "text/plain": [
       "   id       p1   p2   p3       p4   p5       p6       p7       p8       p9  \\\n",
       "0  11  6.48148  3.0  5.0  7.75000  0.0  7.16667  8.16667  9.66667  6.16667   \n",
       "1  12  5.74074  4.0  8.0  7.33333  8.0  8.83333  9.75000  9.66667  9.00000   \n",
       "2  25  7.59259  7.0  8.0  7.66667  8.0  9.66667  9.50000  6.16667  9.66667   \n",
       "\n",
       "   ...       p24      p25  p26      p27  p28   y1     y2    y3    y4    y5  \n",
       "0  ...   1.66667  3.16667  0.0  0.00000  0.0  1.0   5.00  7.44  1.18  4.38  \n",
       "1  ...   2.50000  5.50000  5.0  8.66667  8.0  4.5   4.25  8.93  2.00  6.03  \n",
       "2  ...   3.50000  3.50000  9.0  6.50000  7.0  7.5  11.00  8.97  2.00  9.12  \n",
       "\n",
       "[3 rows x 34 columns]"
      ]
     },
     "execution_count": 267,
     "metadata": {},
     "output_type": "execute_result"
    }
   ],
   "source": [
    "import pandas as pd\n",
    "import numpy as np\n",
    "\n",
    "data1 = pd.read_csv(\"ds-boot-2.csv\", sep='\\t')\n",
    "data2 = pd.read_csv(\"ds-boot-1.csv\", sep='\\t')\n",
    "\n",
    "data1.head(3)"
   ]
  },
  {
   "cell_type": "markdown",
   "metadata": {},
   "source": [
    "Divide dataset in two parts: targets and predictors"
   ]
  },
  {
   "cell_type": "code",
   "execution_count": 268,
   "metadata": {},
   "outputs": [],
   "source": [
    "#extract targets\n",
    "target_name = ['y1', 'y2', 'y3','y4','y5']\n",
    "targets = data1[target_name]\n",
    "data1.drop(target_names, axis=1, inplace=True)\n",
    "data1.drop('id', axis=1, inplace=True)\n"
   ]
  },
  {
   "cell_type": "markdown",
   "metadata": {},
   "source": [
    "Bootstrap method implementation.\n",
    "As arguments method takes dataset, statistic to estimate(median, mean or etc.), number of samples to generate (1000 by default).\n",
    "Method returns mean and std for the statistics."
   ]
  },
  {
   "cell_type": "code",
   "execution_count": 269,
   "metadata": {},
   "outputs": [],
   "source": [
    "def bootstrap_method(data, statistic, num_samples = 1000):\n",
    "    samples = np.random.choice(data, size = (B, len(data)))\n",
    "    stat_to_sample = np.apply_along_axis(statistic, 1, samples)\n",
    "    samples_mean = np.mean(stat_to_sample)\n",
    "    samples_std = np.std(stat_to_sample)\n",
    "    return samples_mean, samples_std\n"
   ]
  },
  {
   "cell_type": "markdown",
   "metadata": {},
   "source": [
    "The results of estimation (for y1...y5) :"
   ]
  },
  {
   "cell_type": "code",
   "execution_count": 270,
   "metadata": {},
   "outputs": [
    {
     "name": "stdout",
     "output_type": "stream",
     "text": [
      "For alpha = 0.05\n",
      "For y 1  : mean =  4.0491625 +-  0.902958630131\n",
      "For y 1  : median =  4.0725 +-  1.23785871165\n",
      "-------------------\n",
      "For y 2  : mean =  5.53751875 +-  1.05280030625\n",
      "For y 2  : median =  6.178625 +-  1.24345547326\n",
      "-------------------\n",
      "For y 3  : mean =  7.31921475 +-  0.890637354006\n",
      "For y 3  : median =  8.307715 +-  0.537340188728\n",
      "-------------------\n",
      "For y 4  : mean =  1.528843 +-  0.217224283898\n",
      "For y 4  : median =  1.85085 +-  0.260191956301\n",
      "-------------------\n",
      "For y 5  : mean =  5.62817425 +-  0.848385511131\n",
      "For y 5  : median =  6.1759 +-  0.858021515012\n",
      "-------------------\n"
     ]
    }
   ],
   "source": [
    "print(\"For alpha = 0.05\")\n",
    "for i in range(1,len(target_name)+1):\n",
    "    results = bootstrap_method(targets['y'+str(i)], np.mean)\n",
    "    print(\"For y\", i, \" : mean = \", results[0], \"+- \", 1.96 * results[1])\n",
    "    results = bootstrap_method(targets['y'+str(i)], np.median)\n",
    "    print(\"For y\", i, \" : median = \", results[0], \"+- \", 1.96 * results[1])\n",
    "    print('-------------------')"
   ]
  },
  {
   "cell_type": "markdown",
   "metadata": {},
   "source": [
    "Estimation a linear model for each target label yi for better prediction of yi"
   ]
  },
  {
   "cell_type": "code",
   "execution_count": 318,
   "metadata": {},
   "outputs": [
    {
     "name": "stdout",
     "output_type": "stream",
     "text": [
      "y1 [ 0.35238786 -0.0872593  -0.47204603  1.12128335 -0.32560952  0.91660928\n",
      " -1.07016296 -0.21037968 -0.18459108 -0.34269019  0.76401483  0.04013402\n",
      "  0.21971176 -0.13237054 -0.80100357  0.25559588  0.57798811 -0.12112813\n",
      " -0.41820161 -0.25960643  0.79350498 -0.11337128  0.41039151 -0.3828399\n",
      "  0.60313631  0.13697149 -0.39762446 -0.10356152]\n",
      "y2 [-0.09055827 -0.2050101  -0.05756693  1.03295264 -0.42786848  1.22539664\n",
      " -0.01825599 -0.68348882 -0.33734167 -0.09156443  0.49654811 -0.21745172\n",
      "  0.26198597  0.09479527 -0.7772984   0.28368651  0.4317742  -0.10643211\n",
      " -0.61382392 -0.0328918   0.79248176  0.09582615 -0.12371058 -0.11463058\n",
      "  0.57389034  0.37649207 -0.68727974 -0.25598829]\n",
      "y3 [ 0.05157219  0.03175493  0.149808    0.01589611  0.1029     -0.11601275\n",
      "  0.25664993  0.15280769  0.08837127  0.03041985  0.11124292  0.13854785\n",
      "  0.01647018  0.03454529  0.11762181 -0.0127462  -0.05198404 -0.0101363\n",
      "  0.07286634  0.03473763 -0.08167806 -0.03622821  0.0027341   0.04252822\n",
      " -0.08627449 -0.00458451  0.0329068  -0.02708777]\n",
      "y4 [ 0.01330987 -0.01806422  0.02408136 -0.00582579  0.06240596  0.14586044\n",
      " -0.07231065  0.09873774  0.01525439  0.07251192 -0.00751296 -0.05317201\n",
      " -0.11767709  0.05395757 -0.04946805  0.02723831 -0.06290234  0.02062967\n",
      "  0.03490465  0.04919405  0.06451733 -0.05416554  0.01722417  0.0427531\n",
      " -0.08584441  0.03352576  0.00942436 -0.00031937]\n",
      "y5 [ 0.11478058 -0.08797598 -0.1310566   0.70544724 -0.19628257  0.69055444\n",
      " -0.32073716 -0.20902371 -0.13684635 -0.11892518  0.44968831 -0.0245689\n",
      "  0.1309239   0.00646035 -0.49038593  0.17796689  0.30054357 -0.07269012\n",
      " -0.30069499 -0.07688366  0.50625481 -0.03504067  0.11151244 -0.14514977\n",
      "  0.33628591  0.1680759  -0.33271154 -0.12115262]\n"
     ]
    }
   ],
   "source": [
    "from sklearn.linear_model import LinearRegression\n",
    "\n",
    "features = ['p1', 'p2', 'p3', 'p4', 'p5', 'p6', 'p7', 'p8', 'p9', 'p10', 'p11', 'p12', 'p13', 'p14', 'p15', 'p16', 'p17', 'p18', 'p19', 'p20', 'p21', 'p22', 'p23', 'p24', 'p25', 'p26', 'p27', 'p28']\n",
    "for label in target_name:\n",
    "    model = LinearRegression()\n",
    "    model.fit(data1[features], targets[label])\n",
    "    print(label, model.coef_)"
   ]
  },
  {
   "cell_type": "code",
   "execution_count": 328,
   "metadata": {},
   "outputs": [
    {
     "name": "stdout",
     "output_type": "stream",
     "text": [
      "y1 :\n",
      "coef [ 0.3244977  -0.01003158 -0.08719649  0.59335007 -0.26479475  0.22900739\n",
      " -0.39437227 -0.06081062 -0.02592986 -0.18395833  0.34715396  0.05607682\n",
      "  0.12306048 -0.03794098 -0.44249922  0.18424717  0.32170097 -0.05284809\n",
      " -0.20517494 -0.16148892  0.35842141 -0.03699993  0.34501893 -0.23899628\n",
      "  0.20341155  0.04668029 -0.0253792  -0.13795633] inpt -0.0419229206979 \n",
      " from [-0.44924387 -0.49736298 -0.93528367 -0.16812087 -0.89366633 -0.56021614\n",
      " -1.62408358 -0.86907392 -0.81917234 -0.92742228 -0.34675133 -0.72313459\n",
      " -0.58333259 -0.65301603 -1.05087716 -0.23634134 -0.16053326 -0.64586019\n",
      " -0.82882272 -0.66424808 -0.13214414 -0.50354561 -0.08939785 -0.84485577\n",
      " -0.30287032 -0.50370798 -0.63559459 -0.56929117]      -1.91069382538e-14 \n",
      " to   [ 1.47684528  0.49517434  0.49082447  1.4373547   0.39549706  1.28027906\n",
      "  0.29668773  0.62104845  0.69079774  0.52185571  1.22054522  0.84219354\n",
      "  0.81842574  0.50603079  0.130008    0.58945369  0.96340546  0.47467615\n",
      "  0.36544213  0.38034123  0.95353285  0.45015319  0.78770957  0.2765821\n",
      "  0.95990162  0.62298375  0.53412547  0.35126825]      3.99680288865e-14 \n",
      "\n",
      "y2 :\n",
      "coef [  2.15193448e-02   1.00088213e-01  -1.37850612e-01   1.96131244e-01\n",
      "   3.64619459e-02   5.29530520e-01   3.58375643e-01  -3.67483619e-01\n",
      "  -5.80327634e-02  -3.89858441e-02   1.66479391e-01   7.33132804e-02\n",
      "  -1.21946524e-02   1.95235365e-01  -3.80772396e-01   1.85196442e-01\n",
      "   2.16972231e-01   3.69161607e-05  -3.48583262e-01  -1.38775057e-01\n",
      "   3.47085375e-01   1.96330648e-01  -1.01263646e-01  -4.61957543e-02\n",
      "   1.21499983e-01   2.44982030e-01  -3.04615902e-01  -1.96172987e-01] inpt -0.0158740601807 \n",
      " from [-1.12314431 -0.46713314 -1.10109411 -0.84596265 -0.87953628 -0.49216178\n",
      " -0.60798445 -1.28388358 -1.0121887  -0.99366871 -0.7748318  -0.8362286\n",
      " -1.3201366  -0.61136981 -1.23299293 -0.3894131  -0.49551581 -0.63570483\n",
      " -1.21899017 -1.03165989 -0.29181565 -0.51620843 -0.73886555 -0.85914254\n",
      " -0.73584974 -0.44172843 -1.27758621 -0.73485002]      -1.60094160151e-14 \n",
      " to   [ 1.10174331  0.84086165  0.78550839  1.24973999  0.97399169  1.80857334\n",
      "  1.45155616  0.62612944  0.92181466  0.77039241  1.29328245  1.16452782\n",
      "  0.95062692  0.97513344  0.38271813  0.75896484  0.95288535  0.58709292\n",
      "  0.37899497  0.62696692  1.15001052  0.88440968  0.40331124  0.85510581\n",
      "  0.99334615  1.1230095   0.56076178  0.40721591]      6.57252030578e-14 \n",
      "\n",
      "y3 :\n",
      "coef [ 0.03483098  0.03363893  0.04931009  0.08760306  0.10185267  0.01745456\n",
      "  0.16813073  0.1286979   0.05605496  0.05717595  0.13182278  0.11616526\n",
      "  0.02404374  0.05081874  0.07712359 -0.0040059  -0.03894776  0.00357419\n",
      "  0.04236039  0.01354275 -0.00882367 -0.03627033  0.00682081  0.03398228\n",
      " -0.06158198  0.00068429 -0.00253286 -0.02467166] inpt 0.0131139844071 \n",
      " from [-0.22493105 -0.07862619 -0.12770413 -0.11801678 -0.07240329 -0.240011\n",
      " -0.02879621 -0.06288649 -0.15744905 -0.12536805 -0.06536165 -0.07560729\n",
      " -0.17462898 -0.12415243 -0.04999709 -0.11412093 -0.19245833 -0.12719624\n",
      " -0.08461794 -0.12581336 -0.16277439 -0.16370776 -0.09168966 -0.10628325\n",
      " -0.22692346 -0.13993245 -0.15101766 -0.14728472]      -7.9936057773e-15 \n",
      " to   [ 0.2462473   0.1569118   0.24334505  0.28648491  0.28456101  0.2371872\n",
      "  0.4444721   0.31707528  0.26424968  0.22815198  0.31740048  0.36274803\n",
      "  0.24928525  0.18482333  0.23309541  0.08781032  0.09454835  0.13605967\n",
      "  0.19211915  0.14257502  0.12406246  0.08777421  0.11281506  0.15800137\n",
      "  0.07676369  0.13568233  0.15852711  0.07782022]      6.48370246381e-14 \n",
      "\n",
      "y4 :\n",
      "coef [-0.02273173 -0.00324478  0.02727018  0.028255    0.04551447  0.04752223\n",
      " -0.02179745  0.0634889   0.04057458  0.02854227 -0.00653429  0.00185734\n",
      " -0.06974836  0.04223299 -0.03252185  0.02772655 -0.04427614  0.03358483\n",
      "  0.02706817  0.03193584  0.04299881 -0.04890071  0.01826238  0.01151417\n",
      " -0.05345201  0.01804694  0.00878337  0.00176614] inpt 0.00245209430885 \n",
      " from [-0.18169511 -0.07660033 -0.0882181  -0.10639719 -0.04515182 -0.05506642\n",
      " -0.17800869 -0.03188115 -0.0568502  -0.07274059 -0.11864311 -0.10906438\n",
      " -0.21168461 -0.047375   -0.13830082 -0.03071947 -0.13917713 -0.04011572\n",
      " -0.04370168 -0.06557632 -0.04760467 -0.12866631 -0.04547373 -0.06937677\n",
      " -0.16515721 -0.06492052 -0.08961215 -0.0663484 ]      -3.11417558407e-15 \n",
      " to   [ 0.11495999  0.06555971  0.12475985  0.14260531  0.14193326  0.19697521\n",
      "  0.1068257   0.19367234  0.17940373  0.12650412  0.11983644  0.11852905\n",
      "  0.0435435   0.13459045  0.05381637  0.11119595  0.04550432  0.11658255\n",
      "  0.1144471   0.12769654  0.16083041  0.02849198  0.07849094  0.09634418\n",
      "  0.03052613  0.11780718  0.10065898  0.06577998]      9.54791801178e-15 \n",
      "\n",
      "y5 :\n",
      "coef [ 0.10576047  0.03003628 -0.03602505  0.30677493 -0.037583    0.24431695\n",
      "  0.03767995 -0.09799629 -0.00751325 -0.05564265  0.2117954   0.07304064\n",
      "  0.0434958   0.08372691 -0.24989808  0.13171575  0.13811186 -0.00323246\n",
      " -0.14719424 -0.09638031  0.22279695  0.02585341  0.09476436 -0.08237362\n",
      "  0.0701734   0.09372018 -0.08059013 -0.12259119] inpt -0.00521057064583 \n",
      " from [-0.38305379 -0.25219377 -0.53443221 -0.07280108 -0.44085936 -0.20256426\n",
      " -0.58291659 -0.58267456 -0.51352897 -0.48090898 -0.2413603  -0.41502142\n",
      " -0.39435865 -0.27934837 -0.67004391 -0.12655696 -0.1760973  -0.32260022\n",
      " -0.51211746 -0.44888711 -0.07826229 -0.2743667  -0.17385612 -0.4685372\n",
      " -0.26068151 -0.24799987 -0.50961451 -0.36698988]      -1.06581410364e-14 \n",
      " to   [ 0.56841326  0.32100999  0.3789771   0.8794189   0.26809     0.8731876\n",
      "  0.48331253  0.32417623  0.38952762  0.28252814  0.70149761  0.48925614\n",
      "  0.49435733  0.37439876  0.08553348  0.39897273  0.48041109  0.30081833\n",
      "  0.19474309  0.25582014  0.64459975  0.31328042  0.35653608  0.28418076\n",
      "  0.46277668  0.47618316  0.29155703  0.14269204]      4.8872017544e-14 \n",
      "\n"
     ]
    }
   ],
   "source": [
    "def bootstrap(X, Y, B=1000, model_class=LinearRegression):\n",
    "    n = X.shape[0]\n",
    "    coeffs = []\n",
    "    for b in range(B):\n",
    "        model = model_class()\n",
    "        idx = np.random.randint(n, size=n)\n",
    "        model.fit(X.as_matrix()[idx, :], Y.as_matrix()[idx])\n",
    "        coeffs.append(np.append(model.coef_, model.intercept_))\n",
    "    coeffs = np.array(coeffs)\n",
    "    conf_int = np.percentile(coeffs, [2.5, 97.5], axis=0)\n",
    "    return coeffs.mean(axis=0), conf_int\n",
    "features = ['p1', 'p2', 'p3', 'p4', 'p5', 'p6', 'p7', 'p8', 'p9', 'p10', 'p11', 'p12', 'p13', 'p14', 'p15', 'p16', 'p17', 'p18', 'p19', 'p20', 'p21', 'p22', 'p23', 'p24', 'p25', 'p26', 'p27', 'p28']\n",
    "for label in target_name:\n",
    "    coeffs, intervals = bootstrap(data1[features], targets[label])\n",
    "    print(label, ':\\n'\n",
    "          'coef', coeffs[:-1], 'inpt', coeffs[-1], '\\n',\n",
    "          'from', intervals[0][:-1], '    ', intervals[0][-1], '\\n',\n",
    "          'to  ', intervals[1][:-1], '    ', intervals[1][-1], '\\n')"
   ]
  },
  {
   "cell_type": "markdown",
   "metadata": {},
   "source": [
    "# Assignment 2"
   ]
  },
  {
   "cell_type": "code",
   "execution_count": 281,
   "metadata": {},
   "outputs": [
    {
     "data": {
      "text/html": [
       "<div>\n",
       "<style>\n",
       "    .dataframe thead tr:only-child th {\n",
       "        text-align: right;\n",
       "    }\n",
       "\n",
       "    .dataframe thead th {\n",
       "        text-align: left;\n",
       "    }\n",
       "\n",
       "    .dataframe tbody tr th {\n",
       "        vertical-align: top;\n",
       "    }\n",
       "</style>\n",
       "<table border=\"1\" class=\"dataframe\">\n",
       "  <thead>\n",
       "    <tr style=\"text-align: right;\">\n",
       "      <th></th>\n",
       "      <th>day</th>\n",
       "      <th>bugsPerDay</th>\n",
       "      <th>cummBugs</th>\n",
       "    </tr>\n",
       "  </thead>\n",
       "  <tbody>\n",
       "    <tr>\n",
       "      <th>0</th>\n",
       "      <td>1</td>\n",
       "      <td>0</td>\n",
       "      <td>0</td>\n",
       "    </tr>\n",
       "    <tr>\n",
       "      <th>1</th>\n",
       "      <td>2</td>\n",
       "      <td>1</td>\n",
       "      <td>1</td>\n",
       "    </tr>\n",
       "    <tr>\n",
       "      <th>2</th>\n",
       "      <td>3</td>\n",
       "      <td>0</td>\n",
       "      <td>1</td>\n",
       "    </tr>\n",
       "    <tr>\n",
       "      <th>3</th>\n",
       "      <td>4</td>\n",
       "      <td>2</td>\n",
       "      <td>3</td>\n",
       "    </tr>\n",
       "    <tr>\n",
       "      <th>4</th>\n",
       "      <td>5</td>\n",
       "      <td>1</td>\n",
       "      <td>4</td>\n",
       "    </tr>\n",
       "  </tbody>\n",
       "</table>\n",
       "</div>"
      ],
      "text/plain": [
       "   day  bugsPerDay  cummBugs\n",
       "0    1           0         0\n",
       "1    2           1         1\n",
       "2    3           0         1\n",
       "3    4           2         3\n",
       "4    5           1         4"
      ]
     },
     "execution_count": 281,
     "metadata": {},
     "output_type": "execute_result"
    }
   ],
   "source": [
    "data2.head()"
   ]
  },
  {
   "cell_type": "code",
   "execution_count": 272,
   "metadata": {},
   "outputs": [
    {
     "data": {
      "text/html": [
       "<div>\n",
       "<style>\n",
       "    .dataframe thead tr:only-child th {\n",
       "        text-align: right;\n",
       "    }\n",
       "\n",
       "    .dataframe thead th {\n",
       "        text-align: left;\n",
       "    }\n",
       "\n",
       "    .dataframe tbody tr th {\n",
       "        vertical-align: top;\n",
       "    }\n",
       "</style>\n",
       "<table border=\"1\" class=\"dataframe\">\n",
       "  <thead>\n",
       "    <tr style=\"text-align: right;\">\n",
       "      <th></th>\n",
       "      <th>day</th>\n",
       "      <th>bugsPerDay</th>\n",
       "      <th>cummBugs</th>\n",
       "    </tr>\n",
       "  </thead>\n",
       "  <tbody>\n",
       "    <tr>\n",
       "      <th>count</th>\n",
       "      <td>1327.000000</td>\n",
       "      <td>1327.000000</td>\n",
       "      <td>1327.000000</td>\n",
       "    </tr>\n",
       "    <tr>\n",
       "      <th>mean</th>\n",
       "      <td>664.000000</td>\n",
       "      <td>4.212509</td>\n",
       "      <td>2894.581763</td>\n",
       "    </tr>\n",
       "    <tr>\n",
       "      <th>std</th>\n",
       "      <td>383.216214</td>\n",
       "      <td>8.803797</td>\n",
       "      <td>2013.662007</td>\n",
       "    </tr>\n",
       "    <tr>\n",
       "      <th>min</th>\n",
       "      <td>1.000000</td>\n",
       "      <td>0.000000</td>\n",
       "      <td>0.000000</td>\n",
       "    </tr>\n",
       "    <tr>\n",
       "      <th>25%</th>\n",
       "      <td>332.500000</td>\n",
       "      <td>0.000000</td>\n",
       "      <td>765.000000</td>\n",
       "    </tr>\n",
       "    <tr>\n",
       "      <th>50%</th>\n",
       "      <td>664.000000</td>\n",
       "      <td>2.000000</td>\n",
       "      <td>3186.000000</td>\n",
       "    </tr>\n",
       "    <tr>\n",
       "      <th>75%</th>\n",
       "      <td>995.500000</td>\n",
       "      <td>6.000000</td>\n",
       "      <td>4994.500000</td>\n",
       "    </tr>\n",
       "    <tr>\n",
       "      <th>max</th>\n",
       "      <td>1327.000000</td>\n",
       "      <td>224.000000</td>\n",
       "      <td>5590.000000</td>\n",
       "    </tr>\n",
       "  </tbody>\n",
       "</table>\n",
       "</div>"
      ],
      "text/plain": [
       "               day   bugsPerDay     cummBugs\n",
       "count  1327.000000  1327.000000  1327.000000\n",
       "mean    664.000000     4.212509  2894.581763\n",
       "std     383.216214     8.803797  2013.662007\n",
       "min       1.000000     0.000000     0.000000\n",
       "25%     332.500000     0.000000   765.000000\n",
       "50%     664.000000     2.000000  3186.000000\n",
       "75%     995.500000     6.000000  4994.500000\n",
       "max    1327.000000   224.000000  5590.000000"
      ]
     },
     "execution_count": 272,
     "metadata": {},
     "output_type": "execute_result"
    }
   ],
   "source": [
    "data2.describe()"
   ]
  },
  {
   "cell_type": "markdown",
   "metadata": {},
   "source": [
    "Implement several models to find the best one."
   ]
  },
  {
   "cell_type": "code",
   "execution_count": 273,
   "metadata": {},
   "outputs": [
    {
     "data": {
      "image/png": "[encoded data removed]",
      "text/plain": [
       "<matplotlib.figure.Figure at 0x216b0acdeb8>"
      ]
     },
     "metadata": {},
     "output_type": "display_data"
    }
   ],
   "source": [
    "import matplotlib.pyplot as plt\n",
    "%matplotlib inline\n",
    "\n",
    "plt.plot(data2['cummBugs'])\n",
    "plt.show()"
   ]
  },
  {
   "cell_type": "code",
   "execution_count": 283,
   "metadata": {
    "collapsed": true
   },
   "outputs": [],
   "source": [
    "def GOS(a, b, t):\n",
    "    return (a * (1 - (1 + b * t) * np.exp(-b * t)))\n",
    "\n",
    "def gompertz(a, b, c, t):\n",
    "    return (a * (b ** (c ** t)))\n",
    "\n",
    "def yamada_raleigh(a, r, alpha, beta, t):\n",
    "    return (a * (1 - np.exp(-r * alpha * (1 - np.exp(-beta * t ** 2 / 2)))))"
   ]
  },
  {
   "cell_type": "code",
   "execution_count": 284,
   "metadata": {},
   "outputs": [
    {
     "data": {
      "image/png": "[encoded data removed]",
      "text/plain": [
       "<matplotlib.figure.Figure at 0x216b0a1d940>"
      ]
     },
     "metadata": {},
     "output_type": "display_data"
    }
   ],
   "source": [
    "a = 5900\n",
    "b = 0.0035\n",
    "x1 = np.arange(1327)\n",
    "x_GOS = GOS(a, b, x1)\n",
    "plt.plot(x_GOS)\n",
    "plt.plot(data2['cummBugs'])\n",
    "plt.show()"
   ]
  },
  {
   "cell_type": "code",
   "execution_count": 276,
   "metadata": {},
   "outputs": [
    {
     "data": {
      "image/png": "[encoded data removed]",
      "text/plain": [
       "<matplotlib.figure.Figure at 0x216b0a11c88>"
      ]
     },
     "metadata": {},
     "output_type": "display_data"
    }
   ],
   "source": [
    "a = 8900\n",
    "alpha = 1.2\n",
    "beta = 0.000002\n",
    "r = 1.1\n",
    "x2 = np.arange(1327)\n",
    "x_yamad = yamada_raleigh(a, r, alpha, beta, x2)\n",
    "plt.plot(x_yamad)\n",
    "plt.plot(data2['cummBugs'])\n",
    "plt.show()"
   ]
  },
  {
   "cell_type": "code",
   "execution_count": 277,
   "metadata": {},
   "outputs": [
    {
     "data": {
      "image/png": "[encoded data removed]",
      "text/plain": [
       "<matplotlib.figure.Figure at 0x216b09cc400>"
      ]
     },
     "metadata": {},
     "output_type": "display_data"
    }
   ],
   "source": [
    "a = 5900\n",
    "b = 0.001\n",
    "c = 0.9965\n",
    "x2 = np.arange(1327)\n",
    "x_gomp = gompertz(a, b, c, x2)\n",
    "plt.plot(x_gomp)\n",
    "plt.plot(data2['cummBugs'])\n",
    "plt.show()"
   ]
  },
  {
   "cell_type": "code",
   "execution_count": 285,
   "metadata": {},
   "outputs": [],
   "source": [
    "a_gos = 5900\n",
    "b_gos = 0.0035\n",
    "def GOS_obj_func(args):\n",
    "    t = np.arange(len(data2['cummBugs']))\n",
    "    return ((data2['cummBugs'] - GOS(args[0], args[1], t)) ** 2).sum() \n",
    "\n",
    "a_gomp = 5900\n",
    "b_gomp = 0.001\n",
    "c_gomp = 0.9965\n",
    "def Yamad_obj_func(args):\n",
    "    t = np.arange(len(data2['cummBugs']))\n",
    "    return ((data2['cummBugs'] - yamada_raleigh(args[0], args[1], args[2], args[3], t)) ** 2).sum() \n",
    "\n",
    "a_yamad = 8900\n",
    "alpha_yamad = 1.2\n",
    "beta_yamad = 0.000002\n",
    "r_yamad = 1.1\n",
    "def Gomp_obj_func(args):\n",
    "    t = np.arange(len(data2['cummBugs']))\n",
    "    return ((data2['cummBugs'] - gompertz(args[0], args[1], args[2], t)) ** 2).sum() \n"
   ]
  },
  {
   "cell_type": "code",
   "execution_count": 291,
   "metadata": {},
   "outputs": [
    {
     "name": "stdout",
     "output_type": "stream",
     "text": [
      "G-O S-shaped method [  8.52256486e+03   1.86485536e-03] 106308245.876\n",
      "Yamada Raleigh method [  9.97584863e+08   1.83125164e-01   3.39283610e-05   3.05325892e-06] 53907262.5029\n",
      "Gompertz method [  6.03152062e+03   8.08154572e-04   9.96446783e-01] 28351423.6786\n"
     ]
    }
   ],
   "source": [
    "from scipy.optimize import minimize\n",
    "\n",
    "GOS_result = minimize(GOS_obj_func, [5950, 0.0035], method='Nelder-Mead')\n",
    "print('G-O S-shaped method', GOS_result.x, GOS_result.fun)\n",
    "\n",
    "Yamad_result = minimize(Yamad_obj_func,  [1e+09, 1.77295917e-01, 3.37923671e-05, 3.05325708e-06], method = 'Nelder-Mead')\n",
    "print('Yamada Raleigh method', Yamad_result.x, Yamad_result.fun)\n",
    "\n",
    "Gomp_result = minimize(Gomp_obj_func, [6000, 0.001, 0.995], method='Nelder-Mead')\n",
    "print('Gompertz method', Gomp_result.x, Gomp_result.fun)"
   ]
  },
  {
   "cell_type": "markdown",
   "metadata": {},
   "source": [
    "Let's draw the results:"
   ]
  },
  {
   "cell_type": "code",
   "execution_count": 292,
   "metadata": {},
   "outputs": [
    {
     "data": {
      "image/png": "[encoded data removed]",
      "text/plain": [
       "<matplotlib.figure.Figure at 0x216b0b1e8d0>"
      ]
     },
     "metadata": {},
     "output_type": "display_data"
    }
   ],
   "source": [
    "x = np.arange(len(data2['cummBugs']))\n",
    "x1 = GOS(GOS_result.x[0], GOS_result.x[1], x)\n",
    "x2 = yamada_raleigh(Yamad_result.x[0], Yamad_result.x[1], Yamad_result.x[2], Yamad_result.x[3], x)\n",
    "x3 = gompertz(Gomp_result.x[0], Gomp_result.x[1], Gomp_result.x[2], x)\n",
    "\n",
    "plt.plot(data2['cummBugs'])\n",
    "plt.plot(x1)\n",
    "plt.plot(x2)\n",
    "plt.plot(x3)\n",
    "plt.show()"
   ]
  },
  {
   "cell_type": "markdown",
   "metadata": {},
   "source": [
    "We can see that best method is Gompertz model. Parameters are: a =  6.03152062e+03; b= 8.08154572e-04; c = 9.96446783e-01.\n",
    "Now using bootstrap, we estimate the 95%-confidence intervals for each of the model parameters."
   ]
  },
  {
   "cell_type": "code",
   "execution_count": 311,
   "metadata": {},
   "outputs": [
    {
     "name": "stdout",
     "output_type": "stream",
     "text": [
      "a =  7522.58779734 with conf interval from 6216.44644419 to 9891.71407524\n",
      "b =  0.045858782955 with conf interval from 0.031121295473 to 0.0649313914561\n",
      "c =  0.998264337653 with conf interval from 0.997856165065 to 0.998659860011\n"
     ]
    }
   ],
   "source": [
    "def param_Gomp_obj_func(args, cummBugs):\n",
    "    t = np.arange(len(cummBugs))\n",
    "    return ((cummBugs - gompertz(args[0], args[1], args[2], t)) ** 2).sum()\n",
    "\n",
    "def bootsrap_method(data, B = 1000):\n",
    "    samples = np.random.choice(data, size=(B, len(data)))\n",
    "    parameters = []\n",
    "\n",
    "    for sample in samples:\n",
    "        cummBugs = np.cumsum(sample)\n",
    "\n",
    "        parameters.append(minimize(param_Gomp_obj_func, [a, b, c], cummBugs, method='Nelder-Mead').x)\n",
    "\n",
    "    parameters = np.array(parameters)\n",
    "    estimation = parameters.mean(axis=0)\n",
    "    conf_int = np.percentile(parameters, [2.5, 97.5], axis=0)\n",
    "    print(\"a = \", estimation[0], 'with conf interval from', conf_int[0][0], 'to', conf_int[1][0])\n",
    "    print(\"b = \", estimation[1], 'with conf interval from', conf_int[0][1], 'to', conf_int[1][1])\n",
    "    print(\"c = \", estimation[2], 'with conf interval from', conf_int[0][2], 'to', conf_int[1][2])\n",
    "    \n",
    "B = 1000\n",
    "data = data2['bugsPerDay']\n",
    "bootsrap_method(data, B)"
   ]
  },
  {
   "cell_type": "code",
   "execution_count": null,
   "metadata": {
    "collapsed": true
   },
   "outputs": [],
   "source": []
  }
 ],
 "metadata": {
  "anaconda-cloud": {},
  "kernelspec": {
   "display_name": "Python 3",
   "language": "python",
   "name": "python3"
  },
  "language_info": {
   "codemirror_mode": {
    "name": "ipython",
    "version": 3
   },
   "file_extension": ".py",
   "mimetype": "text/x-python",
   "name": "python",
   "nbconvert_exporter": "python",
   "pygments_lexer": "ipython3",
   "version": "3.6.3"
  }
 },
 "nbformat": 4,
 "nbformat_minor": 2
}
