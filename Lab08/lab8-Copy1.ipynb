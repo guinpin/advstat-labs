{
 "cells": [
  {
   "cell_type": "markdown",
   "metadata": {},
   "source": [
    "# Assignment 1"
   ]
  },
  {
   "cell_type": "code",
   "execution_count": 42,
   "metadata": {},
   "outputs": [
    {
     "data": {
      "text/html": [
       "<div>\n",
       "<style>\n",
       "    .dataframe thead tr:only-child th {\n",
       "        text-align: right;\n",
       "    }\n",
       "\n",
       "    .dataframe thead th {\n",
       "        text-align: left;\n",
       "    }\n",
       "\n",
       "    .dataframe tbody tr th {\n",
       "        vertical-align: top;\n",
       "    }\n",
       "</style>\n",
       "<table border=\"1\" class=\"dataframe\">\n",
       "  <thead>\n",
       "    <tr style=\"text-align: right;\">\n",
       "      <th></th>\n",
       "      <th>id</th>\n",
       "      <th>p1</th>\n",
       "      <th>p2</th>\n",
       "      <th>p3</th>\n",
       "      <th>p4</th>\n",
       "      <th>p5</th>\n",
       "      <th>p6</th>\n",
       "      <th>p7</th>\n",
       "      <th>p8</th>\n",
       "      <th>p9</th>\n",
       "      <th>...</th>\n",
       "      <th>p24</th>\n",
       "      <th>p25</th>\n",
       "      <th>p26</th>\n",
       "      <th>p27</th>\n",
       "      <th>p28</th>\n",
       "      <th>y1</th>\n",
       "      <th>y2</th>\n",
       "      <th>y3</th>\n",
       "      <th>y4</th>\n",
       "      <th>y5</th>\n",
       "    </tr>\n",
       "  </thead>\n",
       "  <tbody>\n",
       "    <tr>\n",
       "      <th>0</th>\n",
       "      <td>11</td>\n",
       "      <td>6.48148</td>\n",
       "      <td>3.0</td>\n",
       "      <td>5.0</td>\n",
       "      <td>7.75000</td>\n",
       "      <td>0.0</td>\n",
       "      <td>7.16667</td>\n",
       "      <td>8.16667</td>\n",
       "      <td>9.66667</td>\n",
       "      <td>6.16667</td>\n",
       "      <td>...</td>\n",
       "      <td>1.66667</td>\n",
       "      <td>3.16667</td>\n",
       "      <td>0.0</td>\n",
       "      <td>0.00000</td>\n",
       "      <td>0.0</td>\n",
       "      <td>1.0</td>\n",
       "      <td>5.00</td>\n",
       "      <td>7.44</td>\n",
       "      <td>1.18</td>\n",
       "      <td>4.38</td>\n",
       "    </tr>\n",
       "    <tr>\n",
       "      <th>1</th>\n",
       "      <td>12</td>\n",
       "      <td>5.74074</td>\n",
       "      <td>4.0</td>\n",
       "      <td>8.0</td>\n",
       "      <td>7.33333</td>\n",
       "      <td>8.0</td>\n",
       "      <td>8.83333</td>\n",
       "      <td>9.75000</td>\n",
       "      <td>9.66667</td>\n",
       "      <td>9.00000</td>\n",
       "      <td>...</td>\n",
       "      <td>2.50000</td>\n",
       "      <td>5.50000</td>\n",
       "      <td>5.0</td>\n",
       "      <td>8.66667</td>\n",
       "      <td>8.0</td>\n",
       "      <td>4.5</td>\n",
       "      <td>4.25</td>\n",
       "      <td>8.93</td>\n",
       "      <td>2.00</td>\n",
       "      <td>6.03</td>\n",
       "    </tr>\n",
       "    <tr>\n",
       "      <th>2</th>\n",
       "      <td>25</td>\n",
       "      <td>7.59259</td>\n",
       "      <td>7.0</td>\n",
       "      <td>8.0</td>\n",
       "      <td>7.66667</td>\n",
       "      <td>8.0</td>\n",
       "      <td>9.66667</td>\n",
       "      <td>9.50000</td>\n",
       "      <td>6.16667</td>\n",
       "      <td>9.66667</td>\n",
       "      <td>...</td>\n",
       "      <td>3.50000</td>\n",
       "      <td>3.50000</td>\n",
       "      <td>9.0</td>\n",
       "      <td>6.50000</td>\n",
       "      <td>7.0</td>\n",
       "      <td>7.5</td>\n",
       "      <td>11.00</td>\n",
       "      <td>8.97</td>\n",
       "      <td>2.00</td>\n",
       "      <td>9.12</td>\n",
       "    </tr>\n",
       "  </tbody>\n",
       "</table>\n",
       "<p>3 rows × 34 columns</p>\n",
       "</div>"
      ],
      "text/plain": [
       "   id       p1   p2   p3       p4   p5       p6       p7       p8       p9  \\\n",
       "0  11  6.48148  3.0  5.0  7.75000  0.0  7.16667  8.16667  9.66667  6.16667   \n",
       "1  12  5.74074  4.0  8.0  7.33333  8.0  8.83333  9.75000  9.66667  9.00000   \n",
       "2  25  7.59259  7.0  8.0  7.66667  8.0  9.66667  9.50000  6.16667  9.66667   \n",
       "\n",
       "   ...       p24      p25  p26      p27  p28   y1     y2    y3    y4    y5  \n",
       "0  ...   1.66667  3.16667  0.0  0.00000  0.0  1.0   5.00  7.44  1.18  4.38  \n",
       "1  ...   2.50000  5.50000  5.0  8.66667  8.0  4.5   4.25  8.93  2.00  6.03  \n",
       "2  ...   3.50000  3.50000  9.0  6.50000  7.0  7.5  11.00  8.97  2.00  9.12  \n",
       "\n",
       "[3 rows x 34 columns]"
      ]
     },
     "execution_count": 42,
     "metadata": {},
     "output_type": "execute_result"
    }
   ],
   "source": [
    "import pandas as pd\n",
    "import numpy as np\n",
    "\n",
    "data1 = pd.read_csv(\"ds-boot-2.csv\", sep='\\t')\n",
    "data2 = pd.read_csv(\"ds-boot-1.csv\", sep='\\t')\n",
    "\n",
    "data1.head(3)"
   ]
  },
  {
   "cell_type": "code",
   "execution_count": null,
   "metadata": {},
   "outputs": [],
   "source": []
  },
  {
   "cell_type": "markdown",
   "metadata": {},
   "source": [
    "Divide dataset in two parts: targets and predictors"
   ]
  },
  {
   "cell_type": "code",
   "execution_count": 43,
   "metadata": {},
   "outputs": [],
   "source": [
    "#extract targets\n",
    "target_name = ['y1', 'y2', 'y3','y4','y5']\n",
    "targets = data1[target_name]\n",
    "data1.drop(target_names, axis=1, inplace=True)\n",
    "data1.drop('id', axis=1, inplace=True)\n"
   ]
  },
  {
   "cell_type": "markdown",
   "metadata": {},
   "source": [
    "Bootstrap method implementation.\n",
    "As arguments method takes dataset, statistic to estimate(median, mean or etc.), number of samples to generate (1000 by default).\n",
    "Method returns mean and std for the statistics."
   ]
  },
  {
   "cell_type": "code",
   "execution_count": 69,
   "metadata": {},
   "outputs": [],
   "source": [
    "def bootstrap_method(data, statistic, num_samples = 1000):\n",
    "    samples = np.random.choice(data, size = (B, len(data)))\n",
    "    stat_to_sample = np.apply_along_axis(statistic, 1, samples)\n",
    "    samples_mean = np.mean(stat_to_sample)\n",
    "    samples_std = np.std(stat_to_sample)\n",
    "    return samples_mean, samples_std\n"
   ]
  },
  {
   "cell_type": "markdown",
   "metadata": {},
   "source": [
    "The results of estimation (for y1...y5) :"
   ]
  },
  {
   "cell_type": "code",
   "execution_count": 70,
   "metadata": {},
   "outputs": [
    {
     "name": "stdout",
     "output_type": "stream",
     "text": [
      "For alpha = 0.05\n",
      "For y 1  : mean =  4.02695 +-  0.837589632109\n",
      "For y 1  : median =  4.055 +-  1.03893866999\n",
      "-------------------\n",
      "For y 2  : mean =  5.49603125 +-  1.03737002547\n",
      "For y 2  : median =  6.162625 +-  1.29536203433\n",
      "-------------------\n",
      "For y 3  : mean =  7.29482425 +-  0.906336891182\n",
      "For y 3  : median =  8.30882 +-  0.546439274134\n",
      "-------------------\n",
      "For y 4  : mean =  1.5258635 +-  0.216354751084\n",
      "For y 4  : median =  1.859125 +-  0.267672137241\n",
      "-------------------\n",
      "For y 5  : mean =  5.64544175 +-  0.860876267147\n",
      "For y 5  : median =  6.174705 +-  0.807492497628\n",
      "-------------------\n"
     ]
    }
   ],
   "source": [
    "print(\"For alpha = 0.05\")\n",
    "for i in range(1,len(target_name)+1):\n",
    "    results = bootstrap_method(targets['y'+str(i)], np.mean)\n",
    "    print(\"For y\", i, \" : mean = \", results[0], \"+- \", 1.96 * results[1])\n",
    "    results = bootstrap_method(targets['y'+str(i)], np.median)\n",
    "    print(\"For y\", i, \" : median = \", results[0], \"+- \", 1.96 * results[1])\n",
    "    print('-------------------')"
   ]
  },
  {
   "cell_type": "markdown",
   "metadata": {},
   "source": [
    "Estimation a linear model for each target label yi for better prediction of yi"
   ]
  },
  {
   "cell_type": "code",
   "execution_count": null,
   "metadata": {},
   "outputs": [],
   "source": []
  },
  {
   "cell_type": "markdown",
   "metadata": {},
   "source": [
    "# Assignment 2"
   ]
  },
  {
   "cell_type": "code",
   "execution_count": 72,
   "metadata": {},
   "outputs": [
    {
     "data": {
      "text/html": [
       "<div>\n",
       "<style>\n",
       "    .dataframe thead tr:only-child th {\n",
       "        text-align: right;\n",
       "    }\n",
       "\n",
       "    .dataframe thead th {\n",
       "        text-align: left;\n",
       "    }\n",
       "\n",
       "    .dataframe tbody tr th {\n",
       "        vertical-align: top;\n",
       "    }\n",
       "</style>\n",
       "<table border=\"1\" class=\"dataframe\">\n",
       "  <thead>\n",
       "    <tr style=\"text-align: right;\">\n",
       "      <th></th>\n",
       "      <th>day</th>\n",
       "      <th>bugsPerDay</th>\n",
       "      <th>cummBugs</th>\n",
       "    </tr>\n",
       "  </thead>\n",
       "  <tbody>\n",
       "    <tr>\n",
       "      <th>0</th>\n",
       "      <td>1</td>\n",
       "      <td>0</td>\n",
       "      <td>0</td>\n",
       "    </tr>\n",
       "    <tr>\n",
       "      <th>1</th>\n",
       "      <td>2</td>\n",
       "      <td>1</td>\n",
       "      <td>1</td>\n",
       "    </tr>\n",
       "    <tr>\n",
       "      <th>2</th>\n",
       "      <td>3</td>\n",
       "      <td>0</td>\n",
       "      <td>1</td>\n",
       "    </tr>\n",
       "  </tbody>\n",
       "</table>\n",
       "</div>"
      ],
      "text/plain": [
       "   day  bugsPerDay  cummBugs\n",
       "0    1           0         0\n",
       "1    2           1         1\n",
       "2    3           0         1"
      ]
     },
     "execution_count": 72,
     "metadata": {},
     "output_type": "execute_result"
    }
   ],
   "source": [
    "data2.head(3)"
   ]
  },
  {
   "cell_type": "code",
   "execution_count": 73,
   "metadata": {},
   "outputs": [
    {
     "data": {
      "text/html": [
       "<div>\n",
       "<style>\n",
       "    .dataframe thead tr:only-child th {\n",
       "        text-align: right;\n",
       "    }\n",
       "\n",
       "    .dataframe thead th {\n",
       "        text-align: left;\n",
       "    }\n",
       "\n",
       "    .dataframe tbody tr th {\n",
       "        vertical-align: top;\n",
       "    }\n",
       "</style>\n",
       "<table border=\"1\" class=\"dataframe\">\n",
       "  <thead>\n",
       "    <tr style=\"text-align: right;\">\n",
       "      <th></th>\n",
       "      <th>day</th>\n",
       "      <th>bugsPerDay</th>\n",
       "      <th>cummBugs</th>\n",
       "    </tr>\n",
       "  </thead>\n",
       "  <tbody>\n",
       "    <tr>\n",
       "      <th>count</th>\n",
       "      <td>1327.000000</td>\n",
       "      <td>1327.000000</td>\n",
       "      <td>1327.000000</td>\n",
       "    </tr>\n",
       "    <tr>\n",
       "      <th>mean</th>\n",
       "      <td>664.000000</td>\n",
       "      <td>4.212509</td>\n",
       "      <td>2894.581763</td>\n",
       "    </tr>\n",
       "    <tr>\n",
       "      <th>std</th>\n",
       "      <td>383.216214</td>\n",
       "      <td>8.803797</td>\n",
       "      <td>2013.662007</td>\n",
       "    </tr>\n",
       "    <tr>\n",
       "      <th>min</th>\n",
       "      <td>1.000000</td>\n",
       "      <td>0.000000</td>\n",
       "      <td>0.000000</td>\n",
       "    </tr>\n",
       "    <tr>\n",
       "      <th>25%</th>\n",
       "      <td>332.500000</td>\n",
       "      <td>0.000000</td>\n",
       "      <td>765.000000</td>\n",
       "    </tr>\n",
       "    <tr>\n",
       "      <th>50%</th>\n",
       "      <td>664.000000</td>\n",
       "      <td>2.000000</td>\n",
       "      <td>3186.000000</td>\n",
       "    </tr>\n",
       "    <tr>\n",
       "      <th>75%</th>\n",
       "      <td>995.500000</td>\n",
       "      <td>6.000000</td>\n",
       "      <td>4994.500000</td>\n",
       "    </tr>\n",
       "    <tr>\n",
       "      <th>max</th>\n",
       "      <td>1327.000000</td>\n",
       "      <td>224.000000</td>\n",
       "      <td>5590.000000</td>\n",
       "    </tr>\n",
       "  </tbody>\n",
       "</table>\n",
       "</div>"
      ],
      "text/plain": [
       "               day   bugsPerDay     cummBugs\n",
       "count  1327.000000  1327.000000  1327.000000\n",
       "mean    664.000000     4.212509  2894.581763\n",
       "std     383.216214     8.803797  2013.662007\n",
       "min       1.000000     0.000000     0.000000\n",
       "25%     332.500000     0.000000   765.000000\n",
       "50%     664.000000     2.000000  3186.000000\n",
       "75%     995.500000     6.000000  4994.500000\n",
       "max    1327.000000   224.000000  5590.000000"
      ]
     },
     "execution_count": 73,
     "metadata": {},
     "output_type": "execute_result"
    }
   ],
   "source": [
    "data2.describe()"
   ]
  },
  {
   "cell_type": "markdown",
   "metadata": {},
   "source": [
    "Implement several models to find the best one."
   ]
  },
  {
   "cell_type": "code",
   "execution_count": null,
   "metadata": {
    "collapsed": true
   },
   "outputs": [],
   "source": [
    "def GOS(a, b, t):\n",
    "    return (a * (1 - (1 + b * t) * np.exp(-b * t)))\n",
    "\n",
    "def gompertz(a, b, c, t):\n",
    "    return a * (b ** (c ** t))\n",
    "\n",
    "def yamada_raleigh(t, a, r, alpha, beta):\n",
    "    return a * (1 - np.exp(-r * alpha * (1 - np.exp(-beta * t ** 2 / 2))))"
   ]
  },
  {
   "cell_type": "code",
   "execution_count": null,
   "metadata": {
    "collapsed": true
   },
   "outputs": [],
   "source": []
  },
  {
   "cell_type": "code",
   "execution_count": null,
   "metadata": {
    "collapsed": true
   },
   "outputs": [],
   "source": []
  }
 ],
 "metadata": {
  "anaconda-cloud": {},
  "kernelspec": {
   "display_name": "Python 3",
   "language": "python",
   "name": "python3"
  },
  "language_info": {
   "codemirror_mode": {
    "name": "ipython",
    "version": 3
   },
   "file_extension": ".py",
   "mimetype": "text/x-python",
   "name": "python",
   "nbconvert_exporter": "python",
   "pygments_lexer": "ipython3",
   "version": "3.6.3"
  }
 },
 "nbformat": 4,
 "nbformat_minor": 2
}
