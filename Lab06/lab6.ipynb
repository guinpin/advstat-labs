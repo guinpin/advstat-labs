{
 "cells": [
  {
   "cell_type": "markdown",
   "metadata": {},
   "source": [
    "Task Example"
   ]
  },
  {
   "cell_type": "code",
   "execution_count": 2,
   "metadata": {
    "collapsed": false
   },
   "outputs": [
    {
     "name": "stdout",
     "output_type": "stream",
     "text": [
      "Normal distribution:  KstestResult(statistic=0.017979265011991014, pvalue=0.90298682256342133)\n",
      "Double exponential distribution:  KstestResult(statistic=0.060408891403423343, pvalue=0.0012940987658558445)\n",
      "T-distribution distribution:  KstestResult(statistic=0.067440394046950444, pvalue=0.00021273228482288076)\n",
      "Lognormal distribution:  KstestResult(statistic=0.53337914972743461, pvalue=0.0)\n"
     ]
    }
   ],
   "source": [
    "import numpy as np\n",
    "import matplotlib.pyplot as plt\n",
    "from scipy import stats\n",
    "\n",
    "\n",
    "loc, scale = 0., 1.\n",
    "sample_size = 1000\n",
    "\n",
    "y1 = np.random.normal(loc, scale, sample_size)\n",
    "y2 = np.random.laplace(loc, scale, sample_size)\n",
    "y3 = np.random.standard_t(3, sample_size)\n",
    "y4 = np.random.lognormal(loc, scale, sample_size)\n",
    "\n",
    "print(\"Normal distribution: \", stats.kstest(y1, 'norm'))\n",
    "print(\"Double exponential distribution: \", stats.kstest(y2, 'norm'))\n",
    "print(\"T-distribution distribution: \", stats.kstest(y3, 'norm'))\n",
    "print(\"Lognormal distribution: \", stats.kstest(y4, 'norm'))"
   ]
  },
  {
   "cell_type": "markdown",
   "metadata": {
    "collapsed": false
   },
   "source": [
    "Task 1"
   ]
  },
  {
   "cell_type": "code",
   "execution_count": 31,
   "metadata": {
    "collapsed": false
   },
   "outputs": [],
   "source": [
    "import pandas as pd\n",
    "\n",
    "critical_value = 0.03870 #for alpha = 0.01\n",
    "\n",
    "data = pd.read_csv(\"dataset1.txt\", header = None)[0]"
   ]
  },
  {
   "cell_type": "code",
   "execution_count": 17,
   "metadata": {
    "collapsed": false
   },
   "outputs": [],
   "source": [
    "from statsmodels.distributions.empirical_distribution import ECDF\n",
    "import scipy.stats as stats\n",
    "\n",
    "def KS_test_normal(sample, critical_value):\n",
    "    emp_cdf = ECDF(sample)\n",
    "    norm_distrib = stats.norm(np.mean(sample), np.std(sample)).cdf(sample)\n",
    "    D = np.abs(emp_cdf(sample) - norm_distrib)\n",
    "    D_max = np.max(D)\n",
    "    \n",
    "    if D_max < critical_value:\n",
    "        print(\"Accepting H0, the distribution is normal\")\n",
    "    else:\n",
    "        print(\"Rejecting H0, the distribution is not normal\")\n",
    "    return D_max\n"
   ]
  },
  {
   "cell_type": "code",
   "execution_count": 32,
   "metadata": {
    "collapsed": false
   },
   "outputs": [
    {
     "name": "stdout",
     "output_type": "stream",
     "text": [
      "Test normal distribution\n",
      "Accepting H0, the distribution is normal\n",
      "\n",
      "Test double exponential\n",
      "Rejecting H0, the distribution is not normal\n",
      "\n",
      "Test T-distribution\n",
      "Rejecting H0, the distribution is not normal\n",
      "\n",
      "Test lognormal distribution\n",
      "Rejecting H0, the distribution is not normal\n",
      "\n",
      "Test data\n",
      "Rejecting H0, the distribution is not normal\n"
     ]
    },
    {
     "data": {
      "text/plain": [
       "0.15366213968015685"
      ]
     },
     "execution_count": 32,
     "metadata": {},
     "output_type": "execute_result"
    }
   ],
   "source": [
    "print(\"Test normal distribution\")\n",
    "KS_test_normal(stats.norm().rvs(1000), critical_value)\n",
    "print(\"\\nTest double exponential\")\n",
    "KS_test_normal(stats.laplace().rvs(1000), critical_value)\n",
    "print(\"\\nTest T-distribution\")\n",
    "KS_test_normal(stats.t(3).rvs(1000), critical_value)\n",
    "print(\"\\nTest lognormal distribution\")\n",
    "KS_test_normal(stats.lognorm(1).rvs(1000), critical_value)\n",
    "print(\"\\nTest data\")\n",
    "KS_test_normal(data, critical_value)"
   ]
  },
  {
   "cell_type": "code",
   "execution_count": null,
   "metadata": {
    "collapsed": true
   },
   "outputs": [],
   "source": []
  }
 ],
 "metadata": {
  "anaconda-cloud": {},
  "kernelspec": {
   "display_name": "Python [conda root]",
   "language": "python",
   "name": "conda-root-py"
  },
  "language_info": {
   "codemirror_mode": {
    "name": "ipython",
    "version": 3
   },
   "file_extension": ".py",
   "mimetype": "text/x-python",
   "name": "python",
   "nbconvert_exporter": "python",
   "pygments_lexer": "ipython3",
   "version": "3.5.2"
  }
 },
 "nbformat": 4,
 "nbformat_minor": 2
}
